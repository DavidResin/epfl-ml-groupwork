{
 "cells": [
  {
   "cell_type": "markdown",
   "metadata": {},
   "source": [
    "<h1>Random Forest Implementation</h1>\n",
    "\n",
    "In this notebook we apply a Random forest Classifier to our dataset."
   ]
  },
  {
   "cell_type": "code",
   "execution_count": null,
   "metadata": {},
   "outputs": [],
   "source": [
    "# Needed general imports\n",
    "import csv, pickle, time\n",
    "import pandas as pd\n",
    "import numpy as np\n",
    "\n",
    "# Sklearn libraries for Random Forest and cross validation\n",
    "from sklearn.ensemble import RandomForestClassifier\n",
    "from sklearn.model_selection import cross_val_score\n",
    "from keras.preprocessing.text import Tokenizer"
   ]
  },
  {
   "cell_type": "markdown",
   "metadata": {},
   "source": [
    "First we open the DataFrames we saved previously."
   ]
  },
  {
   "cell_type": "code",
   "execution_count": null,
   "metadata": {
    "collapsed": true
   },
   "outputs": [],
   "source": [
    "with open('outputs/train_neg_proc.pkl', 'rb') as f:\n",
    "    neg_DF = pickle.load(f)\n",
    "    \n",
    "with open('outputs/train_pos_proc.pkl', 'rb') as f:\n",
    "    pos_DF = pickle.load(f)\n",
    "    \n",
    "with open('outputs/test_data_proc.pkl', 'rb') as f:\n",
    "    test_DF = pickle.load(f)"
   ]
  },
  {
   "cell_type": "code",
   "execution_count": null,
   "metadata": {
    "collapsed": true
   },
   "outputs": [],
   "source": [
    "neg_DF = pd.DataFrame(neg_DF[\"lemmed\"])\n",
    "pos_DF = pd.DataFrame(pos_DF[\"lemmed\"])\n",
    "test_DF = pd.DataFrame(test_DF[\"lemmed\"])"
   ]
  },
  {
   "cell_type": "code",
   "execution_count": null,
   "metadata": {},
   "outputs": [],
   "source": [
    "neg_DF.head()"
   ]
  },
  {
   "cell_type": "code",
   "execution_count": null,
   "metadata": {},
   "outputs": [],
   "source": [
    "embeddings_index = {}\n",
    "vocab_cut = pd.read_csv(\"outputs/vocab_cut.txt\", sep=\" \", header=None, quoting=csv.QUOTE_NONE)\n",
    "index = pd.Series(vocab_cut[vocab_cut.columns[0]].values)\n",
    "emb = np.load(\"outputs/embeddings.npy\")\n",
    "len(emb)\n",
    "\n",

    "# Create word definition matrix\n",
    "word_weights = pd.DataFrame(data=emb, index=index)"
   ]
  },
  {
   "cell_type": "code",
   "execution_count": null,
   "metadata": {},
   "outputs": [],
   "source": [
    "word_weights.head()"
   ]
  },
  {
   "cell_type": "code",
   "execution_count": null,
   "metadata": {
    "collapsed": true
   },
   "outputs": [],
   "source": [
    "for i in range(len(emb)):\n",
    "    values = emb[i]\n",
    "    word = index[i]\n",
    "    # for each word we find the corresponding word vector\n",
    "    embeddings_index[word] = np.asarray(values[:], dtype='float32')"
   ]
  },
  {
   "cell_type": "code",
   "execution_count": null,
   "metadata": {},
   "outputs": [],
   "source": [
    "embeddings_index"
   ]
  },
  {
   "cell_type": "code",

   "execution_count": null,
   "metadata": {
    "collapsed": true
   },
   "outputs": [],
   "source": [
    "def embedding_matrix(path_glove_twitter, word_index, nb_words, embedding_dim):\n",
    "    \n",
    "    # create index mapping words in the embeddings to their embedding vector\n",
    "    embeddings_index = {}\n",
    "    \n",
    "    f = open(path_glove_twitter, \"r\", encoding=\"utf-8\") \n",
    "    \n",
    "    for line in f:\n",
    "        values = line.split()\n",
    "        word = values[0]\n",
    "        # for each word we find the corresponding word vector\n",
    "        embeddings_index[word] = np.asarray(values[1:], dtype='float32')\n",
    "        \n",
    "    f.close()\n",
    "\n",
    "    # Create the embeding matrix corresponding to our Dataset\n",
    "    embedding_matrix = np.zeros((nb_words + 1, embedding_dim))\n",
    "    \n",
    "    for word, i in word_index.items(): \n",
    "        \n",
    "        if i > nb_words: \n",
    "            continue\n",
    "            \n",
    "        embedding_vector = embeddings_index.get(word)\n",
    "        \n",
    "        if embedding_vector is not None:\n",
    "            # words not found in embedding index will be all-zeros.\n",
    "            embedding_matrix[i] = embedding_vector\n",
    "            \n",
    "    return embedding_matrix"
   ]
  },
  {
   "cell_type": "code",
   "execution_count": null,
   "metadata": {},
   "outputs": [],
   "source": [
    "nb_word = 20000\n",
    "tokenizer = Tokenizer(num_words=nb_word)\n",
    "tokenizer.fit_on_texts(train)\n",
    "sequences_train = tokenizer.texts_to_sequences(train)\n",
    "sequences_test = tokenizer.texts_to_sequences(test)\n",
    "# take only the index of words\n",
    "word_index = tokenizer.word_index"
   ]
  },
  {
   "cell_type": "code",
   "execution_count": null,
   "metadata": {
    "collapsed": true
   },
   "outputs": [],
   "source": [
    "len(word_index)"
   ]
  },
  {
   "cell_type": "code",
   "execution_count": null,
   "metadata": {
    "collapsed": true
   },
   "outputs": [],
   "source": [
    "m = embedding_matrix(\"outputs/embeddings\", word_index, len(word_index), 20)"
   ]
  },
  {
   "cell_type": "code",
   "execution_count": null,
   "metadata": {
    "collapsed": true
   },
   "outputs": [],
   "source": [
    "# Sums the embeddings of each word in the given tweet\n",
    "\n",
    "# THIS METHOD IS NOT OPTIMAL AND WOULD BENEFIT BEING MADE FASTER UNLESS WE DO NOT USE IT IN THE END\n",
    "def query_weights(tweet):\n",
    "    w = pd.DataFrame(columns=range(20))\n",
    "    \n",
    "    for word in tweet:\n",
    "        try:\n",
    "            w = w.append(word_weights.loc[word, :])\n",
    "        except KeyError:\n",
    "            pass\n",
    "        \n",
    "    return w.sum(axis=0)"
   ]
  },
  {
   "cell_type": "code",
   "execution_count": null,
   "metadata": {
    "collapsed": true
   },
   "outputs": [],
   "source": [
    "# Build tweet embeddings\n",
    "neg_dims = neg_DF.copy().apply(query_weights)\n",
    "pos_dims = pos_DF.copy().apply(query_weights)\n",
    "test_dims = test_DF.copy().apply(query_weights)"
   ]
  },
  {
   "cell_type": "code",
   "execution_count": null,
   "metadata": {
    "collapsed": true
   },
   "outputs": [],
   "source": [
    "# Save the embeddings in pkl files\n",
    "with open('outputs/neg_dims.pkl', 'wb') as f:\n",
    "    pickle.dump(neg_dims, f, pickle.HIGHEST_PROTOCOL)\n",
    "    \n",
    "with open('outputs/pos_dims.pkl', 'wb') as f:\n",
    "    pickle.dump(pos_dims, f, pickle.HIGHEST_PROTOCOL)\n",
    "                \n",
    "with open('outputs/test_dims.pkl', 'wb') as f:\n",
    "    pickle.dump(test_dims, f, pickle.HIGHEST_PROTOCOL)            "
   ]
  },
  {
   "cell_type": "code",
   "execution_count": null,
   "metadata": {
    "collapsed": true
   },
   "outputs": [],
   "source": [
    "# Load the embeddings from pkl files\n",
    "with open('outputs/neg_dims.pkl', 'rb') as f:\n",
    "    neg_dims = pickle.load(f)\n",
    "    \n",
    "with open('outputs/pos_dims.pkl', 'rb') as f:\n",
    "    pos_dims = pickle.load(f)\n",
    "    \n",
    "with open('outputs/test_dims.pkl', 'rb') as f:\n",
    "    test_dims = pickle.load(f)"
   ]
  },
  {
   "cell_type": "code",
   "execution_count": null,
   "metadata": {
    "collapsed": true
   },
   "outputs": [],
   "source": [
    "# Generate the matrices for SVM fitting, we just put the positive and negative embeddings together and\n",
    "# create the appropriate y matrix with 1's and -1's\n",
    "X = pos_dims.append(neg_dims)\n",
    "ones = np.ones((pos_dims.shape[0], 1))\n",
    "y = np.append(ones, -1 * ones)"
   ]
  },
  {
   "cell_type": "code",
   "execution_count": null,
   "metadata": {
    "collapsed": true
   },
   "outputs": [],
   "source": [
    "# Applies the Random Forest Classifier technique to the data\n",
    "start = time.time()\n",
    "clf = RandomForestClassifier(min_samples_leaf=20)\n",
    "clf.fit(X, y)\n",
    "end = time.time()\n",
    "print(\"Random Forest\", end - start, clf.score(X, y))\n",
    "pred = pd.DataFrame(clf.predict(test_dims))\n",
    "pred.columns = [\"Prediction\"]\n",
    "pred.insert(0, \"Id\", pred.index + 1)"
   ]
  },
  {
   "cell_type": "code",
   "execution_count": null,
   "metadata": {
    "collapsed": true
   },
   "outputs": [],
   "source": [
    "pred.head()"
   ]
  },
  {
   "cell_type": "code",
   "execution_count": null,
   "metadata": {
    "collapsed": true
   },
   "outputs": [],
   "source": [
    "# We save the submission\n",
    "pred.to_csv(\"outputs/sub_random_forest.csv\", index=False, float_format=\"%.0f\")"
   ]
  },
  {
   "cell_type": "code",
   "execution_count": null,
   "metadata": {
    "collapsed": true
   },
   "outputs": [],
   "source": [
    "# Apply cross validation to the data\n",
    "scores = cross_val_score(clf, X, y, cv=10)\n",
    "scores"
   ]
  }
 ],
 "metadata": {
  "kernelspec": {
   "display_name": "Python 3",
   "language": "python",
   "name": "python3"
  },
  "language_info": {
   "codemirror_mode": {
    "name": "ipython",
    "version": 3
   },
   "file_extension": ".py",
   "mimetype": "text/x-python",
   "name": "python",
   "nbconvert_exporter": "python",
   "pygments_lexer": "ipython3",
   "version": "3.6.2"
  }
 },
 "nbformat": 4,
 "nbformat_minor": 2
}
