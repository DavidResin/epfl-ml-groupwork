{
 "cells": [
  {
   "cell_type": "code",
   "execution_count": 2,
   "metadata": {},
   "outputs": [],
   "source": [
    "import os, sys\n",
    "\n",
    "sys.path.append(os.path.join(sys.path[0], 'scripts'))\n",
    "\n",
    "from proj1_helpers import *\n",
    "from implementations import *\n",
    "import numpy as np\n",
    "import matplotlib.pyplot as plt"
   ]
  },
  {
   "cell_type": "code",
   "execution_count": 3,
   "metadata": {
    "collapsed": true
   },
   "outputs": [],
   "source": [
    "y_tr, x_tr, ids_tr = load_csv_data(\"../train.csv\")\n",
    "y_te, x_te, ids_te = load_csv_data(\"../test.csv\")"
   ]
  },
  {
   "cell_type": "code",
   "execution_count": 4,
   "metadata": {
    "collapsed": true
   },
   "outputs": [],
   "source": [
    "def triage(x):\n",
    "    for i in range(x.shape[1]):\n",
    "        non_nan = x[np.where(x[:, i] != -999), i]\n",
    "        mean = np.mean(non_nan)\n",
    "        x[np.where(x[:, i] == -999), i] = mean"
   ]
  },
  {
   "cell_type": "code",
   "execution_count": 5,
   "metadata": {
    "collapsed": true
   },
   "outputs": [],
   "source": [
    "def prediction_score(pred, y):\n",
    "    res = np.sum(np.abs(pred + y) / 2.0)\n",
    "    return res / len(pred)"
   ]
  },
  {
   "cell_type": "code",
   "execution_count": 6,
   "metadata": {},
   "outputs": [],
   "source": [
    "triage(x_tr)\n",
    "triage(x_te)"
   ]
  },
  {
   "cell_type": "code",
   "execution_count": 7,
   "metadata": {},
   "outputs": [
    {
     "name": "stdout",
     "output_type": "stream",
     "text": [
      "degree=0, loss=0.45049\n",
      "degree=1, loss=0.34041\n",
      "degree=2, loss=0.31553\n",
      "degree=3, loss=0.30477\n",
      "degree=4, loss=0.29924\n",
      "degree=5, loss=0.29640\n",
      "degree=6, loss=0.29393\n",
      "degree=7, loss=0.28866\n",
      "degree=8, loss=0.28205\n",
      "degree=9, loss=0.27874\n"
     ]
    }
   ],
   "source": [
    "for degree in range(15):\n",
    "    # Use degree to create polynomials of given degree.\n",
    "    x_trained = build_poly(x_tr, degree)\n",
    "    x_tested = build_poly(x_te, degree)\n",
    "\n",
    "    # Use least squares to the w for predictions.\n",
    "    w, loss = least_squares(y_tr, x_trained)\n",
    "    #w, loss = logistic_regression(y_tr, x_trained, w, 10, 0.01)\n",
    "\n",
    "    # Get predictions.\n",
    "    y_pred = predict_labels(w, x_tested)\n",
    "    \n",
    "    print(\"degree={d}, loss={tr:.5f}\".format(\n",
    "       d=degree, tr=loss))"
   ]
  },
  {
   "cell_type": "code",
   "execution_count": 8,
   "metadata": {
    "collapsed": true
   },
   "outputs": [],
   "source": [
    "# Use degree to create polynomials of given degree.\n",
    "degree = 7 #0.277\n",
    "x_trained = build_poly(x_tr, degree)\n",
    "x_tested = build_poly(x_te, degree)\n",
    "\n",
    "# Use least squares to the w for predictions.\n",
    "w, loss = least_squares(y_tr, x_trained)\n",
    "#w, loss = logistic_regression(y_tr, x_trained, w, 10, 0.01)\n",
    "\n",
    "# Get predictions.\n",
    "y_pred = predict_labels(w, x_tested)"
   ]
  },
  {
   "cell_type": "code",
   "execution_count": 9,
   "metadata": {},
   "outputs": [
    {
     "data": {
      "text/plain": [
       "0.80377200000000004"
      ]
     },
     "execution_count": 9,
     "metadata": {},
     "output_type": "execute_result"
    }
   ],
   "source": [
    "y_pred_sc = predict_labels(w, x_trained)\n",
    "score = prediction_score(y_pred_sc, y_tr)\n",
    "score"
   ]
  }
 ],
 "metadata": {
  "kernelspec": {
   "display_name": "Python 3",
   "language": "python",
   "name": "python3"
  },
  "language_info": {
   "codemirror_mode": {
    "name": "ipython",
    "version": 3
   },
   "file_extension": ".py",
   "mimetype": "text/x-python",
   "name": "python",
   "nbconvert_exporter": "python",
   "pygments_lexer": "ipython3",
   "version": "3.6.1"
  }
 },
 "nbformat": 4,
 "nbformat_minor": 2
}
